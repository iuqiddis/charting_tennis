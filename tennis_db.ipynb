{
 "cells": [
  {
   "cell_type": "code",
   "execution_count": null,
   "metadata": {},
   "outputs": [],
   "source": [
    "%load_ext sql\n",
    "%sql sqlite:///tmcp.db"
   ]
  },
  {
   "cell_type": "code",
   "execution_count": null,
   "metadata": {},
   "outputs": [],
   "source": [
    "%%sql\n",
    "\n",
    "SELECT * FROM sqlite_master WHERE \"type\"='table';"
   ]
  },
  {
   "cell_type": "code",
   "execution_count": 1,
   "metadata": {},
   "outputs": [],
   "source": [
    "import sqlite3\n",
    "import re\n",
    "import copy"
   ]
  },
  {
   "cell_type": "code",
   "execution_count": 2,
   "metadata": {},
   "outputs": [],
   "source": [
    "def player_name_initials(_player):\n",
    "    ini_exp = '^([A-Z]).+\\s([A-Z])'\n",
    "    ini_grp = re.findall(ini_exp, _player)\n",
    "    initials = ''\n",
    "    for i in ini_grp[0]:\n",
    "        initials = initials+i\n",
    "    criteria = (_player, _player, initials)\n",
    "    return criteria"
   ]
  },
  {
   "cell_type": "code",
   "execution_count": 3,
   "metadata": {},
   "outputs": [],
   "source": [
    "def get_query(_query, query_list):\n",
    "    conn = sqlite3.connect(sqldb_path)\n",
    "    c = conn.cursor()\n",
    "    c.execute(_query, query_list)\n",
    "\n",
    "    _subq = c.fetchall()\n",
    "    conn.close()\n",
    "    return _subq"
   ]
  },
  {
   "cell_type": "code",
   "execution_count": 4,
   "metadata": {},
   "outputs": [],
   "source": [
    "def serves_by_location(_fs, _ss):\n",
    "    # All first and second serves compiled by location\n",
    "    fs_t = {'4': 0, '5': 0, '6': 0}\n",
    "    for i, j in _fs.items():\n",
    "        for k in j:\n",
    "            fs_t[k] += j[k]\n",
    "\n",
    "    ss_t = {'4': 0, '5': 0, '6': 0}\n",
    "    for i, j in _ss.items():\n",
    "        for k in j:\n",
    "            ss_t[k] += j[k]\n",
    "\n",
    "    total_fs = sum(fs_t.values())\n",
    "    total_ss = sum(ss_t.values())\n",
    "\n",
    "    fs_p, ss_p, as_p = {}, {}, {}  # first serve percentages by position\n",
    "\n",
    "    for i in fs_t:\n",
    "        fs_p[i] = fs_t[i]/total_fs\n",
    "    for i in ss_t:\n",
    "        ss_p[i] = ss_t[i]/total_ss\n",
    "\n",
    "    for i, j in zip(fs_t, ss_t):\n",
    "        as_p[i] = (fs_t[i]+ss_t[i]) / (total_ss + total_fs)\n",
    "\n",
    "    fs_p = rename_num_to_pos(fs_p)\n",
    "    ss_p = rename_num_to_pos(ss_p)\n",
    "    as_p = rename_num_to_pos(as_p)\n",
    "\n",
    "    return fs_p, ss_p, as_p"
   ]
  },
  {
   "cell_type": "code",
   "execution_count": 5,
   "metadata": {},
   "outputs": [],
   "source": [
    "def rename_num_to_pos(di):\n",
    "    di['Wide'] = di.pop('4')\n",
    "    di['Body'] = di.pop('5')\n",
    "    di['Down T'] = di.pop('6')\n",
    "    return di"
   ]
  },
  {
   "cell_type": "code",
   "execution_count": 6,
   "metadata": {},
   "outputs": [],
   "source": [
    "def single_break_points(_fs, _ss):\n",
    "    bpfs = {'30-40':{}, '40-AD':{}}\n",
    "    bpss = {'30-40': {}, '40-AD': {}}\n",
    "    for i in _fs:\n",
    "        if i in bpfs:\n",
    "            bpfs[i] = _fs[i]\n",
    "    for i in _ss:\n",
    "        if i in bpss:\n",
    "            bpss[i] = _ss[i]\n",
    "\n",
    "    _sbp_srv1p, _sbp_srv2p, _sbp_srvp = serves_by_location(bpfs,bpss)\n",
    "\n",
    "    return _sbp_srv1p, _sbp_srv2p, _sbp_srvp"
   ]
  },
  {
   "cell_type": "code",
   "execution_count": 7,
   "metadata": {},
   "outputs": [],
   "source": [
    "def multi_break_points(_fs, _ss):\n",
    "    bpfs = {'0-40': {}, '15-40': {}}\n",
    "    bpss = {'0-40': {}, '15-40': {}}\n",
    "    for i in _fs:\n",
    "        if i in bpfs:\n",
    "            bpfs[i] = _fs[i]\n",
    "    for i in _ss:\n",
    "        if i in bpss:\n",
    "            bpss[i] = _ss[i]\n",
    "\n",
    "    _mbp_srv1p, _mbp_srv2p, _mbp_srvp = serves_by_location(bpfs,bpss)\n",
    "\n",
    "    return _mbp_srv1p, _mbp_srv2p, _mbp_srvp"
   ]
  },
  {
   "cell_type": "code",
   "execution_count": 8,
   "metadata": {},
   "outputs": [],
   "source": [
    "def ret_serves(_player):\n",
    "    ql = player_name_initials(_player)  # query list\n",
    "    qry = 'SELECT serving, pts, first, second FROM all_points WHERE (player1 = ? OR player2 = ?) AND serving = ?;'\n",
    "    subq = get_query(qry, ql)\n",
    "\n",
    "    fs = AllServes(all_points)\n",
    "    ss = AllServes(all_points)\n",
    "\n",
    "    # all first and second serves compiled by score\n",
    "    # the extra conditions are due to dirty data\n",
    "    # sometimes the scores are wrong (e.g. 2-1 instead of 30-40)\n",
    "    # or the directions are wrong (not 4,5,6)\n",
    "    for i in subq:\n",
    "        if i[2] and (i[1] in fs.pts) and (i[2][0] in fs.pts[i[1]]):\n",
    "            fs.pts[i[1]][i[2][0]] += 1\n",
    "        if i[3] and (i[1] in ss.pts) and (i[3][0] in ss.pts[i[1]]):\n",
    "            ss.pts[i[1]][i[3][0]] += 1\n",
    "        # else:\n",
    "        #   add a dictionary to catch all the skipped rows\n",
    "\n",
    "    # for i, j in zip(fs.pts, ss.pts):\n",
    "    #     print(i, fs.pts[i], ss.pts[j])\n",
    "\n",
    "    all_srv1p, all_srv2p, all_srvp = serves_by_location(fs.pts, ss.pts)\n",
    "    sbp_srv1p, sbp_srv2p, sbp_srvp = single_break_points(fs.pts, ss.pts)\n",
    "    mbp_srv1p, mbp_srv2p, mbp_srvp = multi_break_points(fs.pts, ss.pts)\n",
    "\n",
    "    _compiled_serves = {'all_serves': {'srv1': all_srv1p, 'srv2': all_srv2p, 'all': all_srvp},\n",
    "                       'sbp_serves': {'srv1': sbp_srv1p, 'srv2': sbp_srv2p, 'all': sbp_srvp},\n",
    "                       'mbp_serves': {'srv1': mbp_srv1p, 'srv2': mbp_srv2p, 'all': mbp_srvp}}\n",
    "\n",
    "    return _compiled_serves"
   ]
  },
  {
   "cell_type": "code",
   "execution_count": null,
   "metadata": {},
   "outputs": [],
   "source": [
    "b = AllServes()\n",
    "\n",
    "for i in b.pts:\n",
    "    print(i, b.pts[i])"
   ]
  },
  {
   "cell_type": "code",
   "execution_count": null,
   "metadata": {},
   "outputs": [],
   "source": [
    "a = AllServes()\n",
    "\n",
    "for i in a.pts:\n",
    "    print(i, a.pts[i])"
   ]
  },
  {
   "cell_type": "code",
   "execution_count": 9,
   "metadata": {},
   "outputs": [],
   "source": [
    "all_points = ('0-0', '0-15', '0-30', '0-40', '15-0', '15-15', '15-30', '15-40', '30-0',\n",
    "             '30-15','30-30', '30-40', '40-0', '40-15', '40-30', '40-40', 'AD-40', '40-AD')\n",
    "all_bp = ('0-40', '15-40', '30-40','40-AD')\n",
    "single_bp = ('30-40','40-AD')\n",
    "multi_bp = ('0-40', '15-40')\n",
    "\n",
    "class AllServes:\n",
    "    def __init__(self, scaffold):\n",
    "        self.scores = {'4': 0, '5': 0, '6': 0}\n",
    "        self.scaffold = scaffold\n",
    "        self.pts = {i:copy.deepcopy(self.scores) for i in self.scaffold}\n",
    "\n",
    "class RetDir:\n",
    "    def __init__(self):\n",
    "        self.ret = {1:0, 2:0, 3:0}\n",
    "\n",
    "class ServDir:\n",
    "    def __init__(self):\n",
    "        self.dir = [4, 5, 6]\n",
    "        self.srv = {i:RetDir() for i in self.dir}\n",
    "\n",
    "class AllReturns:\n",
    "    def __init__(self, scaffold):\n",
    "        self.scaffold = scaffold\n",
    "        self.pts = {i:ServDir() for i in self.scaffold}\n",
    "    \n",
    "    def __str__(self):\n",
    "        bp = ''\n",
    "        for i in self.pts:\n",
    "            bp +='{0:5s}: '.format(i)\n",
    "            for j in self.pts[i].srv:\n",
    "                bp += '  {}- '.format(j)\n",
    "                for k in self.pts[i].srv[j].ret:\n",
    "                    bp += '{0}:{1:<4} '.format(k, self.pts[i].srv[j].ret[k])\n",
    "            bp += '\\n'\n",
    "        return bp"
   ]
  },
  {
   "cell_type": "code",
   "execution_count": null,
   "metadata": {},
   "outputs": [],
   "source": [
    "del b\n",
    "b = AllReturns(multi_bp)"
   ]
  },
  {
   "cell_type": "code",
   "execution_count": null,
   "metadata": {},
   "outputs": [],
   "source": [
    "print(b)"
   ]
  },
  {
   "cell_type": "markdown",
   "metadata": {},
   "source": [
    "## Analyzing Serve Directions "
   ]
  },
  {
   "cell_type": "code",
   "execution_count": 11,
   "metadata": {},
   "outputs": [
    {
     "name": "stdout",
     "output_type": "stream",
     "text": [
      "1st serve, no break: Wide 40 , Body 21 , DownT 39\n",
      "All Serves: Wide 37 , Body 27 , DownT 36\n"
     ]
    }
   ],
   "source": [
    "sqldb_path = 'tmcp.db'\n",
    "player = 'Rafael Nadal'\n",
    "compiled_serves = ret_serves(player)\n",
    "\n",
    "as1w = round(100 * compiled_serves['all_serves']['srv1']['Wide'])\n",
    "as1b = round(100 * compiled_serves['all_serves']['srv1']['Body'])\n",
    "as1t = round(100 * compiled_serves['all_serves']['srv1']['Down T'])\n",
    "\n",
    "ss1w = round(100 * compiled_serves['sbp_serves']['srv1']['Wide'])\n",
    "ss1b = round(100 * compiled_serves['sbp_serves']['srv1']['Body'])\n",
    "ss1t = round(100 * compiled_serves['sbp_serves']['srv1']['Down T'])\n",
    "\n",
    "ms1w = round(100 * compiled_serves['mbp_serves']['srv1']['Wide'])\n",
    "ms1b = round(100 * compiled_serves['mbp_serves']['srv1']['Body'])\n",
    "ms1t = round(100 * compiled_serves['mbp_serves']['srv1']['Down T'])\n",
    "\n",
    "as2w = round(100 * compiled_serves['all_serves']['srv2']['Wide'])\n",
    "as2b = round(100 * compiled_serves['all_serves']['srv2']['Body'])\n",
    "as2t = round(100 * compiled_serves['all_serves']['srv2']['Down T'])\n",
    "\n",
    "ss2w = round(100 * compiled_serves['sbp_serves']['srv2']['Wide'])\n",
    "ss2b = round(100 * compiled_serves['sbp_serves']['srv2']['Body'])\n",
    "ss2t = round(100 * compiled_serves['sbp_serves']['srv2']['Down T'])\n",
    "\n",
    "ms2w = round(100 * compiled_serves['mbp_serves']['srv2']['Wide'])\n",
    "ms2b = round(100 * compiled_serves['mbp_serves']['srv2']['Body'])\n",
    "ms2t = round(100 * compiled_serves['mbp_serves']['srv2']['Down T'])\n",
    "\n",
    "asaw = round(100 * compiled_serves['all_serves']['all']['Wide'])\n",
    "asab = round(100 * compiled_serves['all_serves']['all']['Body'])\n",
    "asat = round(100 * compiled_serves['all_serves']['all']['Down T'])\n",
    "\n",
    "print('1st serve, no break:', 'Wide', as1w, ', Body', as1b, ', DownT', as1t)\n",
    "print('All Serves:', 'Wide', asaw, ', Body', asab, ', DownT', asat)\n"
   ]
  },
  {
   "cell_type": "code",
   "execution_count": null,
   "metadata": {},
   "outputs": [],
   "source": [
    "ql = player_name_initials(player)  # query list\n",
    "qry = 'SELECT serving, pts, first, second FROM all_points WHERE (player1 = ? OR player2 = ?) AND serving = ?;'\n",
    "subq = get_query(qry, ql)\n",
    "\n",
    "print(subq[0:10])\n",
    "print(len(subq))"
   ]
  },
  {
   "cell_type": "markdown",
   "metadata": {},
   "source": [
    "## Analyzing Returns ##"
   ]
  },
  {
   "cell_type": "code",
   "execution_count": null,
   "metadata": {},
   "outputs": [],
   "source": [
    "def filtering_returns(_player):\n",
    "    \n",
    "    ql = player_name_initials(_player)\n",
    "    ret_qry = 'SELECT serving, pts, first, second FROM all_points WHERE (player1 = ? OR player2 = ?) AND NOT serving = ?;'\n",
    "    subq = get_query(ret_qry, ql)\n",
    "    # print(subq[0:10]) # for checking during testing\n",
    "    \n",
    "    # most shots have position (1,2,3) before depth (7,8,9), \n",
    "    # but some have depth before position so have to select it as a second number\n",
    "    str ='^\\d([bfsrv])([123789][123]*)'\n",
    "\n",
    "    rl = [] # return list\n",
    "    for i in subq:\n",
    "        j = re.findall(str, i[2])\n",
    "        if j:\n",
    "            rl.append((i[1], 1, int(i[2][0]), j[0][0], int(j[0][1]), i[2]))\n",
    "            # tuple is (point, serve, serve-dir, return-shot, return-dir, full-rally)\n",
    "        if i[3]:\n",
    "            k = re.findall(str, i[3])\n",
    "            if k: # this drops any double faults as null strings are skipped\n",
    "                rl.append((i[1], 2, int(i[3][0]), k[0][0],int(k[0][1]), i[3]))\n",
    "    return rl"
   ]
  },
  {
   "cell_type": "code",
   "execution_count": null,
   "metadata": {},
   "outputs": [],
   "source": [
    "player = 'Rafael Nadal'\n",
    "tl = filtering_returns(player)\n",
    "\n",
    "for i in tl[0:10]:\n",
    "    print(i)"
   ]
  },
  {
   "cell_type": "code",
   "execution_count": null,
   "metadata": {},
   "outputs": [],
   "source": [
    "def segmenting_returns(rl, points, aggregation=0):\n",
    "    # rl is the returns list from filtering_returns()\n",
    "    # aggregation is if you want to change the AllReturns matrix to something \n",
    "    #      different than the points you're selecting\n",
    "    \n",
    "    if aggregation != 0:\n",
    "        bucket = aggregation\n",
    "    else:\n",
    "        bucket = points\n",
    "    serve_returns = AllReturns(bucket)\n",
    "    \n",
    "    for i in rl:\n",
    "        # the mod 10 is there due to dirty data. a number could be 1,2,3 or 7X,8X,9X\n",
    "        # this aggregation excludes tiebreaker points (~2-3% of points)\n",
    "        if (i[0] in points) and (i[2] in [4, 5, 6]) and ((i[4] % 10) in [1,2,3]):\n",
    "            if aggregation == 0:\n",
    "                serve_returns.pts[i[0]].srv[i[2]].ret[i[4] % 10] += 1\n",
    "            else:\n",
    "                # adding extra complexity to function. I don't like it\n",
    "                # sums the original points bin into one aggregate bucket\n",
    "                serve_returns.pts[aggregation[0]].srv[i[2]].ret[i[4] % 10] += 1\n",
    "    return serve_returns"
   ]
  },
  {
   "cell_type": "code",
   "execution_count": null,
   "metadata": {},
   "outputs": [],
   "source": [
    "a = segmenting_returns(tl, all_points)\n",
    "print(a)"
   ]
  },
  {
   "cell_type": "code",
   "execution_count": null,
   "metadata": {},
   "outputs": [],
   "source": [
    "t = 0\n",
    "for i in a.pts:\n",
    "    t += a.pts[i].srv[4].ret[1]\n",
    "print(t)"
   ]
  },
  {
   "cell_type": "code",
   "execution_count": null,
   "metadata": {},
   "outputs": [],
   "source": [
    "b = segmenting_returns(tl, all_bp)\n",
    "print(b)\n",
    "\n",
    "c = segmenting_returns(tl, single_bp)\n",
    "print(c)\n",
    "\n",
    "d = segmenting_returns(tl, multi_bp)\n",
    "print(d)\n",
    "\n",
    "e = segmenting_returns(tl, all_points, ['sbp'])\n",
    "print(e)\n",
    "\n",
    "for j in e.pts['sbp'].srv[i].ret:\n",
    "    a = 0\n",
    "    for i in e.pts['sbp'].srv:\n",
    "        a += e.pts['sbp'].srv[i].ret[j]\n",
    "    print(a, end=' ')\n",
    "        "
   ]
  },
  {
   "cell_type": "code",
   "execution_count": null,
   "metadata": {},
   "outputs": [],
   "source": []
  }
 ],
 "metadata": {
  "kernelspec": {
   "display_name": "Python 3",
   "language": "python",
   "name": "python3"
  },
  "language_info": {
   "codemirror_mode": {
    "name": "ipython",
    "version": 3
   },
   "file_extension": ".py",
   "mimetype": "text/x-python",
   "name": "python",
   "nbconvert_exporter": "python",
   "pygments_lexer": "ipython3",
   "version": "3.7.4"
  }
 },
 "nbformat": 4,
 "nbformat_minor": 2
}
